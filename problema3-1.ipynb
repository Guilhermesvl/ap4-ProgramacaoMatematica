{
 "cells": [
  {
   "cell_type": "markdown",
   "metadata": {},
   "source": [
    "Guilherme Henrique Silva Barbara - 202120499"
   ]
  },
  {
   "cell_type": "markdown",
   "metadata": {},
   "source": [
    "### Modelo:                Maximizing the expected reward\n",
    "            \n",
    "  **f(s) = max(rk​, pa ​⋅ f(t(s, a)) + (1 − pa​) ⋅ rk′​)**\n",
    "\n",
    "\n",
    "* I. Parar o jogo, e levar para casa a recompensa que acumulou até ali;\n",
    "* II. Continuar o jogo, responder a pergunta e assumir o risco da probabilidade de acerto e erro.\n",
    "\n",
    "\n",
    "**rk**​: recompensa, caso pare;\n",
    "\n",
    "**papa​**: probabilidade de responder corretamente;\n",
    "\n",
    "**rk´**​: recompensa ao errar a próxima pergunta;\n",
    "\n",
    "**f(t(s,a))**: valor esperado do estado seguinte se a resposta for correta."
   ]
  },
  {
   "cell_type": "code",
   "execution_count": 2,
   "metadata": {},
   "outputs": [
    {
     "name": "stdout",
     "output_type": "stream",
     "text": [
      "Estratégia ótima:  ['continuar', 'continuar', 'continuar', 'continuar', 'continuar', 'continuar', 'continuar', 'continuar', 'continuar', 'continuar', 'continuar', 'continuar', 'parar', 'parar', 'parar']\n",
      "Retorno esperado máximo:  1759.344176821962\n"
     ]
    }
   ],
   "source": [
    "def maxRetorno(perguntas, valores, chances, pontosSeguros):\n",
    "    f = [0] * (perguntas + 1)\n",
    "    melhorAcao = [None] * perguntas\n",
    "\n",
    "    for i in range(perguntas - 1, -1, -1):\n",
    "        opcaoParar = valores[i]\n",
    "        opcaoContinuar = chances[i] * f[i + 1] + (1 - chances[i]) * pontosSeguros[i]\n",
    "\n",
    "        if opcaoParar >= opcaoContinuar:\n",
    "            f[i] = opcaoParar\n",
    "            melhorAcao[i] = \"parar\"\n",
    "        else:\n",
    "            f[i] = opcaoContinuar\n",
    "            melhorAcao[i] = \"continuar\"\n",
    "\n",
    "    return melhorAcao, f\n",
    "\n",
    "perguntas = 15\n",
    "valores = [0, 150, 300, 450, 900, 1800, 2100, 2700, 3600, 4500, 9000, 18000, 36000, 72000, 144000, 300000]\n",
    "pontosSeguros = [0, 0, 0, 0, 0, 1800, 1800, 1800, 1800, 1800, 9000, 9000, 9000, 9000, 9000, 300000]\n",
    "chances = [0.996 - 0.051 * (i - 1) for i in range(1, perguntas + 1)]\n",
    "\n",
    "estrategiaOtima, retornoEsperado = maxRetorno(perguntas, valores, chances, pontosSeguros)\n",
    "\n",
    "print(\"Estratégia ótima: \", estrategiaOtima)\n",
    "print(\"Retorno esperado máximo: \", retornoEsperado[0])\n"
   ]
  }
 ],
 "metadata": {
  "kernelspec": {
   "display_name": "base",
   "language": "python",
   "name": "python3"
  },
  "language_info": {
   "codemirror_mode": {
    "name": "ipython",
    "version": 3
   },
   "file_extension": ".py",
   "mimetype": "text/x-python",
   "name": "python",
   "nbconvert_exporter": "python",
   "pygments_lexer": "ipython3",
   "version": "3.12.2"
  }
 },
 "nbformat": 4,
 "nbformat_minor": 2
}
