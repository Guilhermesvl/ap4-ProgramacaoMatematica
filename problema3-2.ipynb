{
 "cells": [
  {
   "cell_type": "markdown",
   "metadata": {},
   "source": [
    "GUilherme Henrique Silva Barbara - 202120499"
   ]
  },
  {
   "cell_type": "markdown",
   "metadata": {},
   "source": [
    "### Modelo: Reaching a question\n",
    "\n",
    "**f(s) = max​(pk ​⋅ f(t(s, a)))**\n",
    "\n",
    "* I. Encontrar a melhor estratégia para chegar a uma pergunta específica + responder corretamente;\n",
    "\n",
    "* II. A maior probabilidade de acerto é calculada recursivamente.\n",
    "\n",
    "\n",
    "\n",
    "**pk​** : probabilidade de responder corretamente a pergunta;\n",
    "\n",
    "\n",
    "**f(t(s, a))** : probabilidade de sucesso a partir do estado seguinte.\n",
    "\n"
   ]
  },
  {
   "cell_type": "code",
   "execution_count": 4,
   "metadata": {},
   "outputs": [
    {
     "name": "stdout",
     "output_type": "stream",
     "text": [
      "Estratégia ótima: ['continuar', 'continuar', 'continuar', 'continuar', None, None, None, None, None, None, None, None, None, None, None]\n",
      "Probabilidade de sucesso ao alcançar a pergunta 3: 0.7093\n"
     ]
    }
   ],
   "source": [
    "def maxProbabilidade(n, pergunta, probabilidades):\n",
    "    f = [0] * (n + 2)\n",
    "    estrategia = [None] * n\n",
    "\n",
    "    f[pergunta + 1] = 1\n",
    "\n",
    "    for k in range(pergunta, -1, -1):\n",
    "        continuar = probabilidades[k] * f[k + 1]\n",
    "        f[k] = continuar\n",
    "        estrategia[k] = \"continuar\"\n",
    "\n",
    "    return estrategia, f\n",
    "\n",
    "\n",
    "n = 15  \n",
    "probabilidades = [0.996 - 0.051 * (k - 1) for k in range(1, n + 1)]  \n",
    "\n",
    "pergunta = 3  \n",
    "estrategia2, f2 = maxProbabilidade(n, pergunta, probabilidades)\n",
    "\n",
    "print(\"Estratégia ótima:\", estrategia2)\n",
    "print(f\"Probabilidade de sucesso ao alcançar a pergunta {pergunta}: {f2[0]:.4f}\")\n"
   ]
  }
 ],
 "metadata": {
  "kernelspec": {
   "display_name": "base",
   "language": "python",
   "name": "python3"
  },
  "language_info": {
   "codemirror_mode": {
    "name": "ipython",
    "version": 3
   },
   "file_extension": ".py",
   "mimetype": "text/x-python",
   "name": "python",
   "nbconvert_exporter": "python",
   "pygments_lexer": "ipython3",
   "version": "3.12.2"
  }
 },
 "nbformat": 4,
 "nbformat_minor": 2
}
